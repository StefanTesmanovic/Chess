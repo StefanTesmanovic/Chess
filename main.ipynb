{
  "nbformat": 4,
  "nbformat_minor": 0,
  "metadata": {
    "colab": {
      "provenance": [],
      "mount_file_id": "11Sa0cAd29oqbIhHSSLnM3U_krd2xskNX",
      "authorship_tag": "ABX9TyNBJNjpYrpDM6Kz/7+CpUjf",
      "include_colab_link": true
    },
    "kernelspec": {
      "name": "python3",
      "display_name": "Python 3"
    },
    "language_info": {
      "name": "python"
    }
  },
  "cells": [
    {
      "cell_type": "markdown",
      "metadata": {
        "id": "view-in-github",
        "colab_type": "text"
      },
      "source": [
        "<a href=\"https://colab.research.google.com/github/StefanTesmanovic/Chess/blob/main/main.ipynb\" target=\"_parent\"><img src=\"https://colab.research.google.com/assets/colab-badge.svg\" alt=\"Open In Colab\"/></a>"
      ]
    },
    {
      "cell_type": "code",
      "execution_count": 12,
      "metadata": {
        "id": "wTbG0ojT23xU",
        "colab": {
          "base_uri": "https://localhost:8080/"
        },
        "outputId": "110d77b5-7b10-45ef-c812-eeed6732991f"
      },
      "outputs": [
        {
          "output_type": "stream",
          "name": "stdout",
          "text": [
            "[[0 1 0 ... 0 0 0]\n",
            " [0 0 0 ... 0 0 1]\n",
            " [0 0 0 ... 0 0 0]\n",
            " ...\n",
            " [0 0 0 ... 0 0 0]\n",
            " [0 0 0 ... 0 0 0]\n",
            " [0 0 0 ... 0 0 0]]\n",
            "(42, 291)\n"
          ]
        },
        {
          "output_type": "execute_result",
          "data": {
            "text/plain": [
              "array(['ali', 'analysis', 'aproksimira', 'apstraktivne', 'apstraktivno',\n",
              "       'automatic', 'based', 'bi', 'biblioteke', 'biblioteku',\n",
              "       'bibloiteku', 'bih', 'bilo', 'bitnost', 'bitnosti', 'bolje',\n",
              "       'broj', 'chatgpt', 'countvectorizer', 'd0', 'da', 'dataset',\n",
              "       'datu', 'decomposition', 'dela', 'dijagonali', 'dijagonalna',\n",
              "       'dimenzija', 'dimenzionalnosti', 'do', 'dobija', 'dobijaju',\n",
              "       'dobijamo', 'dobijemo', 'dobijenoj', 'dobiti', 'dok', 'dovesti',\n",
              "       'doći', 'ekstraktivna', 'ekstraktivne', 'elemenata', 'evaluiranje',\n",
              "       'funkciju', 'greške', 'ili', 'ima', 'imaju', 'indexing', 'ispod',\n",
              "       'ista', 'istih', 'isto', 'iz', 'izaberemo', 'izabranog', 'između',\n",
              "       'izvuku', 'javiti', 'je', 'jedne', 'jednu', 'jer', 'jezik', 'kad',\n",
              "       'kao', 'ključna', 'knjiga', 'književnih', 'koja', 'koje', 'koji',\n",
              "       'kojoj', 'koliko', 'kolona', 'kolone', 'kom', 'korak', 'koren',\n",
              "       'koristi', 'koristio', 'koristiti', 'korišćenje', 'korišćenjem',\n",
              "       'kraja', 'kraju', 'latent', 'lematizacija', 'lematizacije',\n",
              "       'lematizaciju', 'lematizer', 'lematizovanom', 'lsa', 'lsi', 'malu',\n",
              "       'manjeg', 'matematičku', 'matrica', 'matrice', 'matrici',\n",
              "       'matricu', 'metod', 'metoda', 'metode', 'metodu', 'među', 'modela',\n",
              "       'mogao', 'moguće', 'moj', 'moje', 'moze', 'moći', 'može', 'na',\n",
              "       'najmanja', 'najpoznatija', 'najveća', 'najveći', 'najvećom',\n",
              "       'nakon', 'napravi', 'nađem', 'našao', 'ne', 'neke', 'nekim',\n",
              "       'nekog', 'neku', 'nema', 'njemu', 'njen', 'njim', 'novi', 'npr',\n",
              "       'nule', 'oblicima', 'od', 'odnos', 'odredimo', 'on', 'opadajuće',\n",
              "       'originala', 'originalne', 'originalnom', 'ostalih', 'ov', 'ove',\n",
              "       'ovime', 'padežima', 'par', 'paragraf', 'paragrafa', 'paragrafe',\n",
              "       'paragrafu', 'pitanju', 'poboljšanja', 'poglavlja', 'pojedinačnih',\n",
              "       'ponavljanja', 'poređane', 'poslednja', 'poslednjoj', 'postoje',\n",
              "       'poziciji', 'praga', 'prave', 'pravi', 'pravljenje', 'predstavlja',\n",
              "       'predstavljaju', 'pretpostavka', 'pretvara', 'pri', 'primerima',\n",
              "       'pripovetki', 'proces', 'proizvod', 'pročitao', 'prvi', 'prvoj',\n",
              "       'radi', 'radio', 'radu', 'ranga', 'različitu', 'raznim',\n",
              "       'redukcija', 'redukovane', 'reč', 'rečenica', 'rečenicama',\n",
              "       'rečenice', 'rečenici', 'rečenicom', 'reči', 'rouge', 's0', 'sa',\n",
              "       'saberemo', 'sadrži', 'sam', 'score', 'se', 'sem', 'semantic',\n",
              "       'sigurno', 'singular', 'skida', 'skidaju', 'skidanja', 'sklearn',\n",
              "       'skraćenu', 'sličnost', 'sličnosti', 'slova', 'slučaju',\n",
              "       'spacylookup', 'specijalnim', 'spusti', 'srbai', 'srpski',\n",
              "       'stemovanja', 'stemovanje', 'stemovanju', 'stemovanom', 'su',\n",
              "       'sufiks', 'sufiksa', 'sume', 'sumiraju', 'sumirani', 'sumiranja',\n",
              "       'sumiranje', 'sumiranjem', 'sumiranju', 'summarization',\n",
              "       'susednih', 'svake', 'svaki', 'svakog', 'svaku', 'svd', 'sve',\n",
              "       'svih', 'svoje', 'svojstva', 'svođenje', 't0', 'taj', 'tako',\n",
              "       'tačno', 'te', 'tekst', 'teksta', 'tekstu', 'temu', 'testirao',\n",
              "       'text', 'time', 'toga', 'toj', 'tom', 'transform', 'transponovana',\n",
              "       'unapređenje', 'uporedim', 'upoređivanje', 'upoređivao', 'uradi',\n",
              "       'uspešnost', 'value', 'verziju', 'vesti', 'video', 'vidim',\n",
              "       'vrednost', 'vrednosti', 'vrsta', 'vrste', 'vrsti', 'za',\n",
              "       'zadržava', 'značaj', 'značenje', 'znači', 'će', 'ću', 'članke',\n",
              "       'šta', 'što'], dtype=object)"
            ]
          },
          "metadata": {},
          "execution_count": 12
        }
      ],
      "source": [
        "from sklearn.feature_extraction.text import CountVectorizer\n",
        "vectorizer = CountVectorizer()\n",
        "corpus = [\n",
        "     'This is the first document',\n",
        "     'This document is the second document.',\n",
        "     'And this is the third one',\n",
        "     'Is this the first document?',\n",
        " ]\n",
        "file_name = \"crnamacka.txt\"\n",
        "X = vectorizer.fit_transform(get_sentences_from_file(file_name))\n",
        "#X = vectorizer.fit_transform(corpus)\n",
        "print(X.toarray())\n",
        "vectorizer.get_feature_names_out()\n",
        "X = X.toarray()\n",
        "print(X.shape)\n",
        "vectorizer.get_feature_names_out()"
      ]
    },
    {
      "cell_type": "code",
      "source": [
        "def get_sentences_from_file(filename):\n",
        "    sentences = []\n",
        "\n",
        "    with open(filename, 'r') as file:\n",
        "        text = file.read()\n",
        "        sentences = text.split('.')\n",
        "        sentences = [sentence.strip() for sentence in sentences if sentence.strip() != '']\n",
        "\n",
        "    return sentences\n",
        "\n",
        "\n"
      ],
      "metadata": {
        "id": "0mg50OAkJOc2"
      },
      "execution_count": 9,
      "outputs": []
    },
    {
      "cell_type": "code",
      "source": [
        "import numpy as np\n",
        "U, S, Vt = np.linalg.svd(np.transpose(X))\n",
        "print(U.shape,\"\\n\")\n",
        "print(S,\"\\n\")\n",
        "print(Vt)"
      ],
      "metadata": {
        "id": "zuZ0uZXWB99u"
      },
      "execution_count": null,
      "outputs": []
    },
    {
      "cell_type": "code",
      "source": [
        "def LSI(U, S, Vt):\n",
        "    pass"
      ],
      "metadata": {
        "id": "CD6hmHqHAU7S"
      },
      "execution_count": null,
      "outputs": []
    }
  ]
}